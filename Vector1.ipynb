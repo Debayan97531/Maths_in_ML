{
  "nbformat": 4,
  "nbformat_minor": 0,
  "metadata": {
    "colab": {
      "provenance": [],
      "authorship_tag": "ABX9TyM2VzHscGpUuJcopDElcN3F",
      "include_colab_link": true
    },
    "kernelspec": {
      "name": "python3",
      "display_name": "Python 3"
    },
    "language_info": {
      "name": "python"
    }
  },
  "cells": [
    {
      "cell_type": "markdown",
      "metadata": {
        "id": "view-in-github",
        "colab_type": "text"
      },
      "source": [
        "<a href=\"https://colab.research.google.com/github/Debayan97531/Maths_in_ML/blob/main/Vector1.ipynb\" target=\"_parent\"><img src=\"https://colab.research.google.com/assets/colab-badge.svg\" alt=\"Open In Colab\"/></a>"
      ]
    },
    {
      "cell_type": "code",
      "execution_count": 1,
      "metadata": {
        "id": "v6WEdUPssCBj"
      },
      "outputs": [],
      "source": [
        "import pandas as pd\n",
        "import numpy as np\n",
        "import matplotlib.pyplot as plt\n",
        "import seaborn as sns"
      ]
    },
    {
      "cell_type": "code",
      "source": [
        "sns.set()"
      ],
      "metadata": {
        "id": "LX4DQltJsQkU"
      },
      "execution_count": null,
      "outputs": []
    },
    {
      "cell_type": "markdown",
      "source": [
        "Plotting a vector"
      ],
      "metadata": {
        "id": "xfy4F66psc1-"
      }
    },
    {
      "cell_type": "code",
      "source": [
        "plt.quiver(0,0,4,5)\n",
        "plt.show()"
      ],
      "metadata": {
        "colab": {
          "base_uri": "https://localhost:8080/",
          "height": 268
        },
        "id": "-elZMv2OsX-l",
        "outputId": "89d0abc0-2054-44f4-8b85-03df49087923"
      },
      "execution_count": null,
      "outputs": [
        {
          "output_type": "display_data",
          "data": {
            "text/plain": [
              "<Figure size 432x288 with 1 Axes>"
            ],
            "image/png": "[encoded data removed]"
          },
          "metadata": {}
        }
      ]
    },
    {
      "cell_type": "code",
      "source": [
        "plt.quiver(0,0,4,5,scale_units='xy',angles='xy',color='b')\n",
        "plt.xlim(-8,8)\n",
        "plt.ylim(-8,8)\n",
        "plt.show()"
      ],
      "metadata": {
        "colab": {
          "base_uri": "https://localhost:8080/",
          "height": 272
        },
        "id": "kLYKzV4estc-",
        "outputId": "201f038d-a4cb-4590-c223-f35ca10471a3"
      },
      "execution_count": null,
      "outputs": [
        {
          "output_type": "display_data",
          "data": {
            "text/plain": [
              "<Figure size 432x288 with 1 Axes>"
            ],
            "image/png": "[encoded data removed]"
          },
          "metadata": {}
        }
      ]
    },
    {
      "cell_type": "code",
      "source": [
        "plt.quiver(0,0,4,5,scale_units='xy',angles='xy',scale=1,color='b')\n",
        "plt.quiver(0,0,-3,-6,scale_units='xy',angles='xy',scale=1,color='y')\n",
        "plt.xlim(-7,7)\n",
        "plt.ylim(-7,7)\n"
      ],
      "metadata": {
        "colab": {
          "base_uri": "https://localhost:8080/",
          "height": 285
        },
        "id": "jRRUblhKtD3F",
        "outputId": "0f5837b3-3f10-4411-d3e0-60c6705bf43d"
      },
      "execution_count": null,
      "outputs": [
        {
          "output_type": "execute_result",
          "data": {
            "text/plain": [
              "(-7.0, 7.0)"
            ]
          },
          "metadata": {},
          "execution_count": 8
        },
        {
          "output_type": "display_data",
          "data": {
            "text/plain": [
              "<Figure size 432x288 with 1 Axes>"
            ],
            "image/png": "[encoded data removed]"
          },
          "metadata": {}
        }
      ]
    },
    {
      "cell_type": "markdown",
      "source": [
        "Addition of 2 vectors"
      ],
      "metadata": {
        "id": "zEneuk7DuFmL"
      }
    },
    {
      "cell_type": "code",
      "source": [
        "vec_1=np.asarray([0,0,2,3])\n",
        "vec_2=np.asarray([0,0,3,-2])\n",
        "\n",
        "sum=vec_1 +vec_2\n",
        "print(sum)"
      ],
      "metadata": {
        "colab": {
          "base_uri": "https://localhost:8080/"
        },
        "id": "UsG6KTA_t9xo",
        "outputId": "ca741353-c99a-4b39-be80-5d2594716f06"
      },
      "execution_count": null,
      "outputs": [
        {
          "output_type": "stream",
          "name": "stdout",
          "text": [
            "[0 0 5 1]\n"
          ]
        }
      ]
    },
    {
      "cell_type": "code",
      "source": [
        "plt.quiver(0,0,4,5,scale_units='xy',angles='xy',scale=1,color='b')\n",
        "plt.quiver(0,0,-3,-6,scale_units='xy',angles='xy',scale=1,color='y')\n",
        "plt.quiver(0,0,5,1,scale_units='xy',angles='xy',scale=1,color='r')\n",
        "plt.xlim(-7,7)\n",
        "plt.ylim(-7,7)\n"
      ],
      "metadata": {
        "colab": {
          "base_uri": "https://localhost:8080/",
          "height": 285
        },
        "outputId": "3f52c751-4f52-47bb-bb3b-29df4b65cfd5",
        "id": "yDO3mW60unmC"
      },
      "execution_count": null,
      "outputs": [
        {
          "output_type": "execute_result",
          "data": {
            "text/plain": [
              "(-7.0, 7.0)"
            ]
          },
          "metadata": {},
          "execution_count": 11
        },
        {
          "output_type": "display_data",
          "data": {
            "text/plain": [
              "<Figure size 432x288 with 1 Axes>"
            ],
            "image/png": "[encoded data removed]"
          },
          "metadata": {}
        }
      ]
    },
    {
      "cell_type": "markdown",
      "source": [
        "Subtraction of 2 vectors"
      ],
      "metadata": {
        "id": "g564KUs9u51T"
      }
    },
    {
      "cell_type": "code",
      "source": [
        "vec_1=np.asarray([0,0,2,3])\n",
        "vec_2=np.asarray([0,0,3,-2])\n",
        "\n",
        "diff=vec_1-vec_2\n",
        "print(diff)"
      ],
      "metadata": {
        "colab": {
          "base_uri": "https://localhost:8080/"
        },
        "id": "kUe5Il2NuzNb",
        "outputId": "94d04625-3e18-41bf-c1fc-8354e173dd59"
      },
      "execution_count": null,
      "outputs": [
        {
          "output_type": "stream",
          "name": "stdout",
          "text": [
            "[ 0  0 -1  5]\n"
          ]
        }
      ]
    },
    {
      "cell_type": "code",
      "source": [
        "plt.quiver(0,0,2,3,scale_units='xy',angles='xy',scale=1,color='b')\n",
        "plt.quiver(0,0,3,-2,scale_units='xy',angles='xy',scale=1,color='y')\n",
        "plt.quiver(0,0,-1,5,scale_units='xy',angles='xy',scale=1,color='g')\n",
        "plt.xlim(-8,8)\n",
        "plt.ylim(-8,8)"
      ],
      "metadata": {
        "colab": {
          "base_uri": "https://localhost:8080/",
          "height": 289
        },
        "id": "mbatZNu-vO_v",
        "outputId": "9a8fac47-4d6a-41c5-d33c-fe4b62546c00"
      },
      "execution_count": null,
      "outputs": [
        {
          "output_type": "execute_result",
          "data": {
            "text/plain": [
              "(-8.0, 8.0)"
            ]
          },
          "metadata": {},
          "execution_count": 13
        },
        {
          "output_type": "display_data",
          "data": {
            "text/plain": [
              "<Figure size 432x288 with 1 Axes>"
            ],
            "image/png": "[encoded data removed]"
          },
          "metadata": {}
        }
      ]
    },
    {
      "cell_type": "markdown",
      "source": [
        "Multiplying a vector with scalar"
      ],
      "metadata": {
        "id": "ePcDT4r6wBU_"
      }
    },
    {
      "cell_type": "code",
      "source": [
        "vec_1=np.asarray([0,0,2,3])\n",
        "vec_2=2*vec_1\n",
        "print(vec_2)"
      ],
      "metadata": {
        "colab": {
          "base_uri": "https://localhost:8080/"
        },
        "id": "gVlJfIMFv7Nq",
        "outputId": "c110e40a-716c-43f5-adf7-35ddb60a244e"
      },
      "execution_count": null,
      "outputs": [
        {
          "output_type": "stream",
          "name": "stdout",
          "text": [
            "[0 0 4 6]\n"
          ]
        }
      ]
    },
    {
      "cell_type": "code",
      "source": [
        "plt.quiver(0,0,2,3,scale_units='xy',angles='xy',scale=1,color='b')\n",
        "plt.quiver(0,0,4,6,scale_units='xy',angles='xy',scale=1,color='y')\n",
        "#plt.quiver(0,0,-1,5,scale_units='xy',angles='xy',scale=1,color='g')\n",
        "plt.xlim(-8,8)\n",
        "plt.ylim(-8,8)"
      ],
      "metadata": {
        "colab": {
          "base_uri": "https://localhost:8080/",
          "height": 289
        },
        "outputId": "430119fc-b28d-4d17-e8e9-4f2e762cde3a",
        "id": "8b3zM1XGwmCT"
      },
      "execution_count": null,
      "outputs": [
        {
          "output_type": "execute_result",
          "data": {
            "text/plain": [
              "(-8.0, 8.0)"
            ]
          },
          "metadata": {},
          "execution_count": 15
        },
        {
          "output_type": "display_data",
          "data": {
            "text/plain": [
              "<Figure size 432x288 with 1 Axes>"
            ],
            "image/png": "[encoded data removed]"
          },
          "metadata": {}
        }
      ]
    },
    {
      "cell_type": "code",
      "source": [
        "vec_1=np.asarray([0,0,3,4])\n",
        "vec_2=-0.5*vec_1\n",
        "print(vec_2)"
      ],
      "metadata": {
        "colab": {
          "base_uri": "https://localhost:8080/"
        },
        "id": "oijH_5ZgwtM_",
        "outputId": "9b445500-1a57-4371-e49d-44d5a34cef80"
      },
      "execution_count": null,
      "outputs": [
        {
          "output_type": "stream",
          "name": "stdout",
          "text": [
            "[-0.  -0.  -1.5 -2. ]\n"
          ]
        }
      ]
    },
    {
      "cell_type": "code",
      "source": [
        "plt.quiver(0,0,3,4,scale_units='xy',angles='xy',scale=1,color='b')\n",
        "plt.quiver(0,0,-1.5,2,scale_units='xy',angles='xy',scale=1,color='r')\n",
        "plt.xlim(-6,6)\n",
        "plt.ylim(-6,6)"
      ],
      "metadata": {
        "colab": {
          "base_uri": "https://localhost:8080/",
          "height": 289
        },
        "id": "7q7ffgbgxDzz",
        "outputId": "d76906f0-8716-473f-9920-1941c531959c"
      },
      "execution_count": null,
      "outputs": [
        {
          "output_type": "execute_result",
          "data": {
            "text/plain": [
              "(-6.0, 6.0)"
            ]
          },
          "metadata": {},
          "execution_count": 20
        },
        {
          "output_type": "display_data",
          "data": {
            "text/plain": [
              "<Figure size 432x288 with 1 Axes>"
            ],
            "image/png": "[encoded data removed]"
          },
          "metadata": {}
        }
      ]
    },
    {
      "cell_type": "code",
      "source": [],
      "metadata": {
        "id": "dcJPiH9rxrL_"
      },
      "execution_count": null,
      "outputs": []
    }
  ]
}