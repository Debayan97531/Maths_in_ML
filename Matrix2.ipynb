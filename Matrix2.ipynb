{
  "nbformat": 4,
  "nbformat_minor": 0,
  "metadata": {
    "colab": {
      "provenance": [],
      "authorship_tag": "ABX9TyOJGawpPInVKXXKeaSh9TQL",
      "include_colab_link": true
    },
    "kernelspec": {
      "name": "python3",
      "display_name": "Python 3"
    },
    "language_info": {
      "name": "python"
    }
  },
  "cells": [
    {
      "cell_type": "markdown",
      "metadata": {
        "id": "view-in-github",
        "colab_type": "text"
      },
      "source": [
        "<a href=\"https://colab.research.google.com/github/Debayan97531/Maths_in_ML/blob/main/Matrix2.ipynb\" target=\"_parent\"><img src=\"https://colab.research.google.com/assets/colab-badge.svg\" alt=\"Open In Colab\"/></a>"
      ]
    },
    {
      "cell_type": "code",
      "execution_count": 1,
      "metadata": {
        "id": "dV9__CnIEagR"
      },
      "outputs": [],
      "source": [
        "import numpy as np"
      ]
    },
    {
      "cell_type": "markdown",
      "source": [
        "Matrix Addition"
      ],
      "metadata": {
        "id": "s1GgbdDYEmpO"
      }
    },
    {
      "cell_type": "markdown",
      "source": [
        "Two Matrices can be added only if they have same shape"
      ],
      "metadata": {
        "id": "fo7vudmgEsiE"
      }
    },
    {
      "cell_type": "code",
      "source": [
        "#creating two matrices\n",
        "\n",
        "A=np.array([[2,3],[5,6]])\n",
        "\n",
        "B=np.array([[6,7],[8,9]])\n",
        "\n",
        "print(A)\n",
        "\n",
        "print(B)"
      ],
      "metadata": {
        "colab": {
          "base_uri": "https://localhost:8080/"
        },
        "id": "9GvU1afjElFo",
        "outputId": "0e048209-20b9-4b6d-f947-fce09befee60"
      },
      "execution_count": 2,
      "outputs": [
        {
          "output_type": "stream",
          "name": "stdout",
          "text": [
            "[[2 3]\n",
            " [5 6]]\n",
            "[[6 7]\n",
            " [8 9]]\n"
          ]
        }
      ]
    },
    {
      "cell_type": "code",
      "source": [
        "sum=A+B\n",
        "print(sum)"
      ],
      "metadata": {
        "colab": {
          "base_uri": "https://localhost:8080/"
        },
        "id": "m2oPRlJTFGa3",
        "outputId": "0eb18356-44a7-4766-e6fb-8ca86eb0939e"
      },
      "execution_count": 3,
      "outputs": [
        {
          "output_type": "stream",
          "name": "stdout",
          "text": [
            "[[ 8 10]\n",
            " [13 15]]\n"
          ]
        }
      ]
    },
    {
      "cell_type": "code",
      "source": [
        "#create two matrices with random values\n",
        "\n",
        "matrix_1 = np.random.randint(10, size=(3,3))\n",
        "matrix_2 = np.random.randint(20, size=(3,3))\n",
        "\n",
        "\n",
        "print(matrix_1)\n",
        "print(matrix_2)"
      ],
      "metadata": {
        "colab": {
          "base_uri": "https://localhost:8080/"
        },
        "id": "xropJ_9LFMaS",
        "outputId": "4c46dca6-ab7d-4df3-e639-6b0a84971db5"
      },
      "execution_count": 6,
      "outputs": [
        {
          "output_type": "stream",
          "name": "stdout",
          "text": [
            "[[4 6 6]\n",
            " [4 9 9]\n",
            " [2 8 6]]\n",
            "[[12 14 11]\n",
            " [ 5  2 10]\n",
            " [13  4 14]]\n"
          ]
        }
      ]
    },
    {
      "cell_type": "code",
      "source": [
        "sum = np.add(matrix_1,matrix_2)\n",
        "\n",
        "print(sum)"
      ],
      "metadata": {
        "colab": {
          "base_uri": "https://localhost:8080/"
        },
        "id": "cS258TlxFrhq",
        "outputId": "16ce2fbc-3ca5-42e0-95da-cad22b8571a3"
      },
      "execution_count": 7,
      "outputs": [
        {
          "output_type": "stream",
          "name": "stdout",
          "text": [
            "[[16 20 17]\n",
            " [ 9 11 19]\n",
            " [15 12 20]]\n"
          ]
        }
      ]
    },
    {
      "cell_type": "code",
      "source": [
        "#create two matrices with random values with diff shape\n",
        "\n",
        "mat_3 = np.random.randint(10, size=(3,3))\n",
        "mat_4 = np.random.randint(15, size=(3,4))\n",
        "\n",
        "sum_2=np.add(mat_3,mat_4)"
      ],
      "metadata": {
        "colab": {
          "base_uri": "https://localhost:8080/",
          "height": 200
        },
        "id": "7bBoCeskGJjv",
        "outputId": "471d96e6-7d20-43c6-b26c-055b26ef649a"
      },
      "execution_count": 8,
      "outputs": [
        {
          "output_type": "error",
          "ename": "ValueError",
          "evalue": "ignored",
          "traceback": [
            "\u001b[0;31m---------------------------------------------------------------------------\u001b[0m",
            "\u001b[0;31mValueError\u001b[0m                                Traceback (most recent call last)",
            "\u001b[0;32m<ipython-input-8-f48fbfea71b9>\u001b[0m in \u001b[0;36m<module>\u001b[0;34m\u001b[0m\n\u001b[1;32m      4\u001b[0m \u001b[0mmat_4\u001b[0m \u001b[0;34m=\u001b[0m \u001b[0mnp\u001b[0m\u001b[0;34m.\u001b[0m\u001b[0mrandom\u001b[0m\u001b[0;34m.\u001b[0m\u001b[0mrandint\u001b[0m\u001b[0;34m(\u001b[0m\u001b[0;36m15\u001b[0m\u001b[0;34m,\u001b[0m \u001b[0msize\u001b[0m\u001b[0;34m=\u001b[0m\u001b[0;34m(\u001b[0m\u001b[0;36m3\u001b[0m\u001b[0;34m,\u001b[0m\u001b[0;36m4\u001b[0m\u001b[0;34m)\u001b[0m\u001b[0;34m)\u001b[0m\u001b[0;34m\u001b[0m\u001b[0;34m\u001b[0m\u001b[0m\n\u001b[1;32m      5\u001b[0m \u001b[0;34m\u001b[0m\u001b[0m\n\u001b[0;32m----> 6\u001b[0;31m \u001b[0msum_2\u001b[0m\u001b[0;34m=\u001b[0m\u001b[0mnp\u001b[0m\u001b[0;34m.\u001b[0m\u001b[0madd\u001b[0m\u001b[0;34m(\u001b[0m\u001b[0mmat_3\u001b[0m\u001b[0;34m,\u001b[0m\u001b[0mmat_4\u001b[0m\u001b[0;34m)\u001b[0m\u001b[0;34m\u001b[0m\u001b[0;34m\u001b[0m\u001b[0m\n\u001b[0m",
            "\u001b[0;31mValueError\u001b[0m: operands could not be broadcast together with shapes (3,3) (3,4) "
          ]
        }
      ]
    },
    {
      "cell_type": "markdown",
      "source": [
        "wr get this error bcs shape of mat_3 and mat_4 are different"
      ],
      "metadata": {
        "id": "DOIrPCQVGx2B"
      }
    },
    {
      "cell_type": "code",
      "source": [
        "#creating two matrices\n",
        "\n",
        "A= np.array([[2,3],[4,5]])\n",
        "\n",
        "B= np.array([[6,7],[8,9]])\n",
        "\n",
        "print(A)\n",
        "print(B)"
      ],
      "metadata": {
        "colab": {
          "base_uri": "https://localhost:8080/"
        },
        "id": "D-ZvoHpzGvyp",
        "outputId": "527248b4-14ae-49a2-b330-f8b305949cd7"
      },
      "execution_count": 9,
      "outputs": [
        {
          "output_type": "stream",
          "name": "stdout",
          "text": [
            "[[2 3]\n",
            " [4 5]]\n",
            "[[6 7]\n",
            " [8 9]]\n"
          ]
        }
      ]
    },
    {
      "cell_type": "code",
      "source": [
        "diff=A-B\n",
        "print(diff)"
      ],
      "metadata": {
        "colab": {
          "base_uri": "https://localhost:8080/"
        },
        "id": "fpQG9qyBHRh7",
        "outputId": "f990c566-42ca-47b2-adaa-064788c1401b"
      },
      "execution_count": 10,
      "outputs": [
        {
          "output_type": "stream",
          "name": "stdout",
          "text": [
            "[[-4 -4]\n",
            " [-4 -4]]\n"
          ]
        }
      ]
    },
    {
      "cell_type": "code",
      "source": [
        "#creating two matrices with random values\n",
        "\n",
        "mat_1 = np.random.randint(15, size=(3,4))\n",
        "mat_2 = np.random.randint(5, size=(3,4))\n",
        "\n",
        "print(mat_1)\n",
        "print(mat_2)"
      ],
      "metadata": {
        "colab": {
          "base_uri": "https://localhost:8080/"
        },
        "id": "QvoIgNNlHUm2",
        "outputId": "b3789107-1eb8-416c-c0ef-b2c4a3630c4c"
      },
      "execution_count": 11,
      "outputs": [
        {
          "output_type": "stream",
          "name": "stdout",
          "text": [
            "[[12 11 14  5]\n",
            " [11  2  4  6]\n",
            " [12 11  8  4]]\n",
            "[[4 4 0 4]\n",
            " [1 0 0 4]\n",
            " [2 4 2 4]]\n"
          ]
        }
      ]
    },
    {
      "cell_type": "code",
      "source": [
        "diff = np.subtract(mat_1,mat_2)\n",
        "print(diff)"
      ],
      "metadata": {
        "colab": {
          "base_uri": "https://localhost:8080/"
        },
        "id": "M4UZDcpCH1N3",
        "outputId": "a0a17548-f58f-467b-d710-da566b368b16"
      },
      "execution_count": 12,
      "outputs": [
        {
          "output_type": "stream",
          "name": "stdout",
          "text": [
            "[[ 8  7 14  1]\n",
            " [10  2  4  2]\n",
            " [10  7  6  0]]\n"
          ]
        }
      ]
    },
    {
      "cell_type": "markdown",
      "source": [
        "Maultiplying a matrix by a scalar"
      ],
      "metadata": {
        "id": "K580Z2U7IHyk"
      }
    },
    {
      "cell_type": "code",
      "source": [
        "x=5\n",
        "y= np.random.randint(5, size=(3,3))\n",
        "print(y)"
      ],
      "metadata": {
        "colab": {
          "base_uri": "https://localhost:8080/"
        },
        "id": "JIus5dXBIAop",
        "outputId": "8a862cb3-7247-42e2-a9c6-847f274e213a"
      },
      "execution_count": 13,
      "outputs": [
        {
          "output_type": "stream",
          "name": "stdout",
          "text": [
            "[[2 0 1]\n",
            " [2 0 0]\n",
            " [0 2 4]]\n"
          ]
        }
      ]
    },
    {
      "cell_type": "code",
      "source": [
        "product = np.multiply(x,y)\n",
        "print(product)"
      ],
      "metadata": {
        "colab": {
          "base_uri": "https://localhost:8080/"
        },
        "id": "Aj1VxnuNIbnG",
        "outputId": "604a00e3-6af0-48e3-e8b9-57ec5140be7a"
      },
      "execution_count": 14,
      "outputs": [
        {
          "output_type": "stream",
          "name": "stdout",
          "text": [
            "[[10  0  5]\n",
            " [10  0  0]\n",
            " [ 0 10 20]]\n"
          ]
        }
      ]
    },
    {
      "cell_type": "markdown",
      "source": [
        "Multiplying 2 matrices"
      ],
      "metadata": {
        "id": "WKR-vKbyIrKz"
      }
    },
    {
      "cell_type": "code",
      "source": [
        "#create two matrices with random values\n",
        "\n",
        "mat_3 = np.random.randint(5, size=(3,3))\n",
        "mat_4 = np.random.randint(5, size=(3,4))\n",
        "\n",
        "print(mat_3)\n",
        "print(mat_4)"
      ],
      "metadata": {
        "colab": {
          "base_uri": "https://localhost:8080/"
        },
        "id": "HNLEhTDJIlzY",
        "outputId": "d9bc32ce-81e0-4786-c05a-037b22da7148"
      },
      "execution_count": 15,
      "outputs": [
        {
          "output_type": "stream",
          "name": "stdout",
          "text": [
            "[[1 2 1]\n",
            " [3 4 3]\n",
            " [1 0 1]]\n",
            "[[2 3 4 4]\n",
            " [0 3 1 1]\n",
            " [0 3 1 0]]\n"
          ]
        }
      ]
    },
    {
      "cell_type": "code",
      "source": [
        "product = np.dot(mat_3,mat_4)\n",
        "print(product)"
      ],
      "metadata": {
        "colab": {
          "base_uri": "https://localhost:8080/"
        },
        "id": "Y1-r1YQwJG2C",
        "outputId": "0c4cdc2d-571e-4abe-af72-6bf66147d7ae"
      },
      "execution_count": 16,
      "outputs": [
        {
          "output_type": "stream",
          "name": "stdout",
          "text": [
            "[[ 2 12  7  6]\n",
            " [ 6 30 19 16]\n",
            " [ 2  6  5  4]]\n"
          ]
        }
      ]
    },
    {
      "cell_type": "code",
      "source": [
        "product.shape"
      ],
      "metadata": {
        "colab": {
          "base_uri": "https://localhost:8080/"
        },
        "id": "swjPjo_iJUYK",
        "outputId": "2f92f460-ab8f-4595-85fe-edffe29062ec"
      },
      "execution_count": 17,
      "outputs": [
        {
          "output_type": "execute_result",
          "data": {
            "text/plain": [
              "(3, 4)"
            ]
          },
          "metadata": {},
          "execution_count": 17
        }
      ]
    },
    {
      "cell_type": "code",
      "source": [
        "#create two matrices with random values\n",
        "mat_3 = np.random.randint(4, size=(3,3))\n",
        "mat_4 = np.random.randint(5, size=(3,3))\n",
        "\n",
        "print(mat_3)\n",
        "print(mat_4)"
      ],
      "metadata": {
        "colab": {
          "base_uri": "https://localhost:8080/"
        },
        "id": "dTmTNM9fJgeT",
        "outputId": "e8b56f4c-4068-4855-86d3-fd99672e69fd"
      },
      "execution_count": 18,
      "outputs": [
        {
          "output_type": "stream",
          "name": "stdout",
          "text": [
            "[[3 3 1]\n",
            " [1 2 1]\n",
            " [3 0 3]]\n",
            "[[1 4 3]\n",
            " [2 3 1]\n",
            " [0 1 4]]\n"
          ]
        }
      ]
    },
    {
      "cell_type": "code",
      "source": [
        "product = np.multiply(mat_3,mat_4)\n",
        "print(product)"
      ],
      "metadata": {
        "colab": {
          "base_uri": "https://localhost:8080/"
        },
        "id": "mwvaLfbkKHu8",
        "outputId": "2c85eb67-fdab-4146-e231-1fc30a881ccf"
      },
      "execution_count": 19,
      "outputs": [
        {
          "output_type": "stream",
          "name": "stdout",
          "text": [
            "[[ 3 12  3]\n",
            " [ 2  6  1]\n",
            " [ 0  0 12]]\n"
          ]
        }
      ]
    },
    {
      "cell_type": "code",
      "source": [
        "#create two matrices with random values\n",
        "\n",
        "mat_3 = np.random.randint(4, size=(3,3))\n",
        "mat_4 = np.random.randint(4, size=(3,4))\n",
        "\n",
        "product = np.multiply(mat_3,mat_4)\n",
        "print(product)"
      ],
      "metadata": {
        "colab": {
          "base_uri": "https://localhost:8080/",
          "height": 217
        },
        "id": "P5JrzSh9KY77",
        "outputId": "cc66901e-3341-4e90-8743-608e476c0775"
      },
      "execution_count": 20,
      "outputs": [
        {
          "output_type": "error",
          "ename": "ValueError",
          "evalue": "ignored",
          "traceback": [
            "\u001b[0;31m---------------------------------------------------------------------------\u001b[0m",
            "\u001b[0;31mValueError\u001b[0m                                Traceback (most recent call last)",
            "\u001b[0;32m<ipython-input-20-71714cea7c04>\u001b[0m in \u001b[0;36m<module>\u001b[0;34m\u001b[0m\n\u001b[1;32m      4\u001b[0m \u001b[0mmat_4\u001b[0m \u001b[0;34m=\u001b[0m \u001b[0mnp\u001b[0m\u001b[0;34m.\u001b[0m\u001b[0mrandom\u001b[0m\u001b[0;34m.\u001b[0m\u001b[0mrandint\u001b[0m\u001b[0;34m(\u001b[0m\u001b[0;36m4\u001b[0m\u001b[0;34m,\u001b[0m \u001b[0msize\u001b[0m\u001b[0;34m=\u001b[0m\u001b[0;34m(\u001b[0m\u001b[0;36m3\u001b[0m\u001b[0;34m,\u001b[0m\u001b[0;36m4\u001b[0m\u001b[0;34m)\u001b[0m\u001b[0;34m)\u001b[0m\u001b[0;34m\u001b[0m\u001b[0;34m\u001b[0m\u001b[0m\n\u001b[1;32m      5\u001b[0m \u001b[0;34m\u001b[0m\u001b[0m\n\u001b[0;32m----> 6\u001b[0;31m \u001b[0mproduct\u001b[0m \u001b[0;34m=\u001b[0m \u001b[0mnp\u001b[0m\u001b[0;34m.\u001b[0m\u001b[0mmultiply\u001b[0m\u001b[0;34m(\u001b[0m\u001b[0mmat_3\u001b[0m\u001b[0;34m,\u001b[0m\u001b[0mmat_4\u001b[0m\u001b[0;34m)\u001b[0m\u001b[0;34m\u001b[0m\u001b[0;34m\u001b[0m\u001b[0m\n\u001b[0m\u001b[1;32m      7\u001b[0m \u001b[0mprint\u001b[0m\u001b[0;34m(\u001b[0m\u001b[0mproduct\u001b[0m\u001b[0;34m)\u001b[0m\u001b[0;34m\u001b[0m\u001b[0;34m\u001b[0m\u001b[0m\n",
            "\u001b[0;31mValueError\u001b[0m: operands could not be broadcast together with shapes (3,3) (3,4) "
          ]
        }
      ]
    },
    {
      "cell_type": "markdown",
      "source": [
        "np.multiply() allows multiply with same size matrices only"
      ],
      "metadata": {
        "id": "SjsAv9zIK985"
      }
    },
    {
      "cell_type": "code",
      "source": [],
      "metadata": {
        "id": "9U5FpmsBK8Vq"
      },
      "execution_count": null,
      "outputs": []
    }
  ]
}