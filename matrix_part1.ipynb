{
  "nbformat": 4,
  "nbformat_minor": 0,
  "metadata": {
    "colab": {
      "provenance": [],
      "authorship_tag": "ABX9TyOVI4vjeLI0HOU4qhIlD1cb",
      "include_colab_link": true
    },
    "kernelspec": {
      "name": "python3",
      "display_name": "Python 3"
    },
    "language_info": {
      "name": "python"
    }
  },
  "cells": [
    {
      "cell_type": "markdown",
      "metadata": {
        "id": "view-in-github",
        "colab_type": "text"
      },
      "source": [
        "<a href=\"https://colab.research.google.com/github/Debayan97531/Maths_in_ML/blob/main/matrix_part1.ipynb\" target=\"_parent\"><img src=\"https://colab.research.google.com/assets/colab-badge.svg\" alt=\"Open In Colab\"/></a>"
      ]
    },
    {
      "cell_type": "code",
      "execution_count": 1,
      "metadata": {
        "id": "7S6omobUGqiB"
      },
      "outputs": [],
      "source": [
        "import numpy as np"
      ]
    },
    {
      "cell_type": "markdown",
      "source": [
        "Creating a matrix using numpy"
      ],
      "metadata": {
        "id": "x0IIdGlgHdha"
      }
    },
    {
      "cell_type": "code",
      "source": [
        "matrix_1 = np.array([[2,4],[6,7],[88,9]])\n",
        "print(matrix_1)"
      ],
      "metadata": {
        "colab": {
          "base_uri": "https://localhost:8080/"
        },
        "id": "Hgy_0xxQHUua",
        "outputId": "553445bd-9376-40e5-e42d-59898a4c50d0"
      },
      "execution_count": 5,
      "outputs": [
        {
          "output_type": "stream",
          "name": "stdout",
          "text": [
            "[[ 2  4]\n",
            " [ 6  7]\n",
            " [88  9]]\n"
          ]
        }
      ]
    },
    {
      "cell_type": "code",
      "source": [
        "matrix_1.shape"
      ],
      "metadata": {
        "colab": {
          "base_uri": "https://localhost:8080/"
        },
        "id": "mWb3wF9fHr9K",
        "outputId": "87a12be0-2735-4ff4-e23a-71271271f2fe"
      },
      "execution_count": 6,
      "outputs": [
        {
          "output_type": "execute_result",
          "data": {
            "text/plain": [
              "(3, 2)"
            ]
          },
          "metadata": {},
          "execution_count": 6
        }
      ]
    },
    {
      "cell_type": "markdown",
      "source": [
        "Creating matrices with random values"
      ],
      "metadata": {
        "id": "oMsXxabwIEfF"
      }
    },
    {
      "cell_type": "code",
      "source": [
        "ran_mat = np.random.rand(3,4)\n",
        "print(ran_mat)"
      ],
      "metadata": {
        "colab": {
          "base_uri": "https://localhost:8080/"
        },
        "id": "nNeN3nOJHu5r",
        "outputId": "adc47427-a44f-48a7-d5d7-020d02fe5e76"
      },
      "execution_count": 7,
      "outputs": [
        {
          "output_type": "stream",
          "name": "stdout",
          "text": [
            "[[0.71319701 0.02814538 0.2607529  0.10967044]\n",
            " [0.08261445 0.98414741 0.25916851 0.64011979]\n",
            " [0.76397473 0.82568715 0.85576669 0.17079717]]\n"
          ]
        }
      ]
    },
    {
      "cell_type": "code",
      "source": [
        "#creating with random integers\n",
        "\n",
        "ran_int_mat = np.random.randint(100,size=(3,5))\n",
        "print(ran_int_mat)"
      ],
      "metadata": {
        "colab": {
          "base_uri": "https://localhost:8080/"
        },
        "id": "-_cG7LXGIOKy",
        "outputId": "09e0d3c2-0c7e-4b02-c937-19e7aebf8750"
      },
      "execution_count": 8,
      "outputs": [
        {
          "output_type": "stream",
          "name": "stdout",
          "text": [
            "[[19 40 96 89 40]\n",
            " [13 23 31 70 25]\n",
            " [87 69 96 89 42]]\n"
          ]
        }
      ]
    },
    {
      "cell_type": "markdown",
      "source": [
        "with all values as 1"
      ],
      "metadata": {
        "id": "AaXqUcj4IoPo"
      }
    },
    {
      "cell_type": "code",
      "source": [
        "mat_3 = np.ones((2,3))\n",
        "print(mat_3)"
      ],
      "metadata": {
        "colab": {
          "base_uri": "https://localhost:8080/"
        },
        "id": "iD9k8oM0Ikxe",
        "outputId": "894f1123-534f-4f78-e55d-04891dc77117"
      },
      "execution_count": 10,
      "outputs": [
        {
          "output_type": "stream",
          "name": "stdout",
          "text": [
            "[[1. 1. 1.]\n",
            " [1. 1. 1.]]\n"
          ]
        }
      ]
    },
    {
      "cell_type": "code",
      "source": [
        "matrix_3 = np.ones((2,3),dtype=int)\n",
        "print(matrix_3)"
      ],
      "metadata": {
        "colab": {
          "base_uri": "https://localhost:8080/"
        },
        "id": "htSuqjcAIvVk",
        "outputId": "42cec9a9-9c01-49f5-bcca-c4521939f225"
      },
      "execution_count": 13,
      "outputs": [
        {
          "output_type": "stream",
          "name": "stdout",
          "text": [
            "[[1 1 1]\n",
            " [1 1 1]]\n"
          ]
        }
      ]
    },
    {
      "cell_type": "markdown",
      "source": [
        "Null / Zero Matrix"
      ],
      "metadata": {
        "id": "I2tR_RXhJawM"
      }
    },
    {
      "cell_type": "code",
      "source": [
        "mat_4 = np.zeros((4,5))\n",
        "print(mat_4)"
      ],
      "metadata": {
        "colab": {
          "base_uri": "https://localhost:8080/"
        },
        "id": "nVcjzSEXJD1l",
        "outputId": "93fcf958-8536-4e7f-e887-1f8812e2febb"
      },
      "execution_count": 14,
      "outputs": [
        {
          "output_type": "stream",
          "name": "stdout",
          "text": [
            "[[0. 0. 0. 0. 0.]\n",
            " [0. 0. 0. 0. 0.]\n",
            " [0. 0. 0. 0. 0.]\n",
            " [0. 0. 0. 0. 0.]]\n"
          ]
        }
      ]
    },
    {
      "cell_type": "code",
      "source": [
        "matrix_4 = np.zeros((4,6),dtype=int)\n",
        "print(matrix_4)"
      ],
      "metadata": {
        "colab": {
          "base_uri": "https://localhost:8080/"
        },
        "id": "kwXZ4DQWJy1k",
        "outputId": "64074513-cdb0-42dd-c7d6-3dcb9a0c4095"
      },
      "execution_count": 15,
      "outputs": [
        {
          "output_type": "stream",
          "name": "stdout",
          "text": [
            "[[0 0 0 0 0 0]\n",
            " [0 0 0 0 0 0]\n",
            " [0 0 0 0 0 0]\n",
            " [0 0 0 0 0 0]]\n"
          ]
        }
      ]
    },
    {
      "cell_type": "markdown",
      "source": [
        "Identity Matrix"
      ],
      "metadata": {
        "id": "uIKA0l6NKKk-"
      }
    },
    {
      "cell_type": "code",
      "source": [
        "iden_mat = np.eye(3,4)\n",
        "print(iden_mat)"
      ],
      "metadata": {
        "colab": {
          "base_uri": "https://localhost:8080/"
        },
        "id": "oJKvR1R0J7FX",
        "outputId": "86bbf297-9db7-49f7-b404-5be0502c86d2"
      },
      "execution_count": 18,
      "outputs": [
        {
          "output_type": "stream",
          "name": "stdout",
          "text": [
            "[[1. 0. 0. 0.]\n",
            " [0. 1. 0. 0.]\n",
            " [0. 0. 1. 0.]]\n"
          ]
        }
      ]
    },
    {
      "cell_type": "markdown",
      "source": [
        "Transpose of a matrix"
      ],
      "metadata": {
        "id": "oyUaBqYVKfbj"
      }
    },
    {
      "cell_type": "code",
      "source": [
        "#with random values\n",
        "\n",
        "a = np.random.randint(100,size=(4,5))\n",
        "print(a)"
      ],
      "metadata": {
        "colab": {
          "base_uri": "https://localhost:8080/"
        },
        "id": "gShBPDcFKS5R",
        "outputId": "c46d217a-72c5-4022-8a51-845e73cc557b"
      },
      "execution_count": 19,
      "outputs": [
        {
          "output_type": "stream",
          "name": "stdout",
          "text": [
            "[[98 22 10 49  6]\n",
            " [75 43 91 16 64]\n",
            " [75 79 46 23  9]\n",
            " [60 35 25  0 86]]\n"
          ]
        }
      ]
    },
    {
      "cell_type": "code",
      "source": [
        "tran_a = np.transpose(a)\n",
        "print(tran_a)"
      ],
      "metadata": {
        "colab": {
          "base_uri": "https://localhost:8080/"
        },
        "id": "Qh2CQyJGLA4I",
        "outputId": "539a180e-8cd0-4a9d-b2a8-0c3ff3af4612"
      },
      "execution_count": 20,
      "outputs": [
        {
          "output_type": "stream",
          "name": "stdout",
          "text": [
            "[[98 75 75 60]\n",
            " [22 43 79 35]\n",
            " [10 91 46 25]\n",
            " [49 16 23  0]\n",
            " [ 6 64  9 86]]\n"
          ]
        }
      ]
    },
    {
      "cell_type": "code",
      "source": [],
      "metadata": {
        "id": "efC5Rh77LJNO"
      },
      "execution_count": null,
      "outputs": []
    }
  ]
}